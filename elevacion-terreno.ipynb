{
 "cells": [
  {
   "cell_type": "markdown",
   "metadata": {
    "slideshow": {
     "slide_type": "slide"
    }
   },
   "source": [
    " <img src=\"img/1_presentacion.png\" alt=\"Del GPS a un mapa en 3D\">"
   ]
  },
  {
   "cell_type": "markdown",
   "metadata": {
    "slideshow": {
     "slide_type": "skip"
    }
   },
   "source": [
    "# Trabajo práctico final\n",
    "\n",
    "## Adquisición de datos de un terreno con Tiva y receptor GPS y su mapa de elevación con Python\n",
    "\n",
    "* **Cátedra**: Sistemas de Radionavegación\n",
    "\n",
    "* **Autores**: \n",
    "    * Reinoso, Agustín Nahuel.\n",
    "    * Mollinedo Rivadeneira, Bibiana.\n",
    "\n",
    "* **Año**: 2018\n",
    "\n",
    "Bibiana Rivadeneira\n",
    "Agustín Reinoso\n",
    "[![](https://licensebuttons.net/l/by-sa/4.0/88x31.png)](https://creativecommons.org/licenses/by-sa/4.0/deed.es)\n",
    "\n",
    "**Atribución-CompartirIgual 4.0 Internacional (CC BY-SA 4.0)**\n",
    "\n",
    "Este es un resumen legible por humanos (y no un sustituto) de la licencia. Advertencia.\n",
    "Usted es libre de:\n",
    "\n",
    "- Compartir — copiar y redistribuir el material en cualquier medio o formato\n",
    "- Adaptar — remezclar, transformar y construir a partir del material para cualquier propósito, incluso comercialmente.\n",
    "\n",
    "Esta licencia es aceptable para Obras Culturales Libres.\n",
    "\n",
    "La licenciante no puede revocar estas libertades en tanto usted siga los términos de la licencia\n",
    "\n",
    "Bajo los siguientes términos:\n",
    "\n",
    "- Atribución — Usted debe dar crédito de manera adecuada, brindar un enlace a la licencia, e indicar si se han realizado cambios. Puede hacerlo en cualquier forma razonable, pero no de forma tal que sugiera que usted o su uso tienen el apoyo de la licenciante.\n",
    "\n",
    "- CompartirIgual — Si remezcla, transforma o crea a partir del material, debe distribuir su contribución bajo la lamisma licencia del original.\n",
    "\n",
    "No hay restricciones adicionales — No puede aplicar términos legales ni medidas tecnológicas que restrinjan legalmente a otras a hacer cualquier uso permitido por la licencia."
   ]
  },
  {
   "cell_type": "markdown",
   "metadata": {
    "slideshow": {
     "slide_type": "slide"
    }
   },
   "source": [
    "![](img/2_presentacion.png)"
   ]
  },
  {
   "cell_type": "markdown",
   "metadata": {
    "slideshow": {
     "slide_type": "skip"
    }
   },
   "source": [
    "### Resumen\n",
    "\n",
    "Se desarrolla e implementa un sistema de adquisición y visualización de datos de puntos de interés para la cartografía: Se obtienen datos de un **receptor GPS** recorriendo un terreno particular, se realiza el correspondiente tratamiento de datos para obtener ternas del tipo *latitud, longitud, altitud* como datos de entrada a un algoritmo que resulta en la **visualización en 3D del mapa de elevación** .\n",
    "\n",
    "### Palabras clave\n",
    "\n",
    "GNSS, GPS, tiva, mapa de elevación, curvas de nivel, python, matplotlib"
   ]
  },
  {
   "cell_type": "markdown",
   "metadata": {
    "slideshow": {
     "slide_type": "skip"
    }
   },
   "source": [
    "### Introducción\n",
    "\n",
    "Se estudia el funcionamiento de los sistemas GNSS, se refuerzan conceptos sobre el GPS y se desarrolla e implementa una solución tecnológica como aplicación de dicho campo de estudio, mediante la adquisición de coordenadas GPS dadas por: *latitud, longitud y altitud* de puntos de interés de un determinado terreno, dichos datos se adaptan y procesan mediante un script en Python que realiza el mapa de elevación del mismo.\n",
    "\n",
    "### Objetivos\n",
    "\n",
    "* Reforzar conceptos referidos a sistemas GNSS.\n",
    "* Diseñar una solución tecnológica aplicando dichos conceptos.\n",
    "* Complementar conocimientos de sistemas GNSS, así como los de las orientaciones de datos y sistemas embebidos.\n",
    "* Exponer los resultados de la implementación como producto propiamente dicho.\n",
    "* Analizar los resultados.\n",
    "* Establecer conclusiones."
   ]
  },
  {
   "cell_type": "markdown",
   "metadata": {
    "slideshow": {
     "slide_type": "skip"
    }
   },
   "source": [
    "### Diseño\n",
    "\n",
    "Se diseña el sistema de adquisición y visualización de datos georeferenciados según dos módulos bien diferenciados:\n",
    "\n",
    "* **Módulo de adquisición**: Hardware y software que permiten la recepción de datos GPS y su almacenamiento.\n",
    "* **Módulo de procesamiento y visualización de datos**: Código que adapta y procesa los datos, resultando en una visualización del mapa de elevación del terreno en cuestión."
   ]
  },
  {
   "cell_type": "markdown",
   "metadata": {
    "slideshow": {
     "slide_type": "slide"
    }
   },
   "source": [
    "**Diagrama del sistema**\n",
    "\n",
    "![](https://i.imgur.com/aeFtJVG.png)\n",
    "\n",
    "[Diagrama simbólico adquisición y visualización de datos GPS.](https://i.imgur.com/aeFtJVG.png) de brivadeneira / [CCbySA4.0](https://creativecommons.org/licenses/by-sa/4.0/deed.es)"
   ]
  },
  {
   "cell_type": "markdown",
   "metadata": {
    "slideshow": {
     "slide_type": "skip"
    }
   },
   "source": [
    "#### Adquisición de datos\n",
    "\n",
    "##### Descripción\n",
    "\n",
    "La adquisición de los datos se realiza mediante un microcontrolador *(Tiva)* conectada a un módulo GPS y antena receptora, se recorre el terreno de interés con este módulo, adquiriendo los puntos georreferenciados del recorrido, y a través de un protocolo de comunicación de datos serial, a una computadora, donde se almacenan y procesan los datos.\n",
    "\n",
    "Se le adjudica al módulo de recepción de datos las siguientes tareas:\n",
    "\n",
    "- Recepción de datos GPS.\n",
    "- Comunicación de los datos vía serial a la computadora.\n",
    "\n",
    "##### Especificaciones técnicas\n",
    "\n",
    "###### Microcontrolador Tiva TM4C123GH6PM\n",
    "\n",
    "![](http://www.ti.com/diagrams/med_ek-tm4c123gxl_tivalp_angle_new.jpg)\n",
    "\n",
    "Esta plataforma es idea para:\n",
    "\n",
    "* Aplicaciones de proposito general ya que cuenta con 32-bit ARM CORTEX^TM^ 80 Mhz CPU & integracion analogica/digital.\n",
    "* Aplicaciones industriales, incluyendo monitoreo remoto, pruebas, mediciones.\n",
    "* Ademas cuenta con un amplio soporte de software.\n",
    "\n",
    "**Visión General**\n",
    "\n",
    "Los microcontroladores Tiva^TM^ C Series de Texas Instrument proporcionan a los diseñadores un ARM® de alto rendimiento con arquitectura basada en Cortex^TM^ -M con un amplio conjunto de capacidades de integración y un sólido ecosistema de software y herramientas de desarrollo. Dirigiendo el rendimiento y la flexibilidad, la arquitectura de la serie Tiva^TM^ C ofrece un Cortex-M de 80 MHz con FPU, una variedad de memorias integradas y múltiples GPIO programable. \n",
    "Los dispositivos de la serie Tiva^TM^ C ofrecen a los consumidores soluciones atractivas y rentables integrando periféricos específicos de la aplicación y proporcionando una biblioteca completa de software Herramientas que minimizan los costos de la placa y el tiempo de ciclo de diseño. Ofreciendo un tiempo de comercialización y un costo más rápidos. Los microcontroladores de la serie C de Tiva ™ son la opción líder en el alto rendimiento de aplicaciones de 32 bits.\n",
    "\n",
    "Los microcontroladores ARM Cortex-M4 de la Serie Tiva^TM^ C ofrecen un rendimiento superior y avanzada\n",
    "integración. La familia de productos está posicionada para aplicaciones conscientes de los costos que requieren importantes control de procesamiento y capacidades de conectividad tales como:\n",
    "\n",
    "* Low power, hand-held smart devices.\n",
    "* Gaming equipment.\n",
    "* Home and commercial site monitoring and control.\n",
    "* Motion control.\n",
    "* Medical instrumentation.\n",
    "* Test and measurement equipment.\n",
    "* Factory automation.\n",
    "* Fire and security.\n",
    "* Smart Energy/Smart Grid solutions.\n",
    "* Intelligent lighting control.\n",
    "* Transportation.\n",
    "\n",
    "###### GPS NEO-6 u-blox\n",
    "\n",
    "![](http://rogerbit.com/wprb/wp-content/uploads/2016/05/ublox-300x300.jpg)\n",
    "\n",
    "**Visión General**\n",
    "\n",
    "La serie de módulos NEO-6 es una familia de receptores GPS autónomos con el alto rendimiento, con el núcleo de posicionamiento  u-blox 6. Estos receptores flexibles y rentables ofrecen numerosas opciones de conectividad en una miniatura.\n",
    "\n",
    "Paquete de 16 x 12.2 x 2.4 mm. Su arquitectura compacta y sus opciones de potencia y memoria hacen que los módulos NEO-6 sean ideal para dispositivos móviles que funcionan con baterías con costos y restricciones de espacio muy estrictos.\n",
    "\n",
    "El núcleo de posicionamiento u-blox 6 de 50 canales cuenta con un tiempo de corrección (TTFF) de menos de 1 segundo. El dedicado núcleo de adquisición, con 2 millones de correladores, es capaz de realizar búsquedas masivas en el espacio tiempo/frecuencia en el espacio,permitiéndole encontrar satélites al instante. El diseño y la tecnología innovadores suprimen las fuentes de interferencia (jamming) y mitiga los efectos multipath, brindando a los receptores GPS NEO-6 un excelente rendimiento de navegación incluso en la mayoría ambientes desafiantes.\n",
    "\n",
    "**Protocolos**\n",
    "\n",
    "| Protocol | Type |\n",
    "| --------- | ---- |\n",
    "| NMEA | Input/Output, ASCII, 0183,2.3 (compatible a 3.0) |\n",
    "| UBX | Input/output, binary, u-blox proprietary |\n",
    "| RTCM | Input, 2.3 |\n",
    "\n",
    "Todos los protocolos listados estan disponibles en UART, USB.\n",
    "\n",
    "**Interfaces**\n",
    "\n",
    "* **UART** el modulo NEO-6 incluye una interface UART para comnicacion serial.\n",
    "* **USB** Este modulo NEO-6 tambien provee una interfaza USB 2.0 (Full speed, 12 Mbits/s).\n",
    "\n",
    "###### Antena\n",
    "El módulo NEO-6 esta diseñado para usar con antenas pasivas y activas.\n",
    "\n",
    "| Parameter | Specification |\n",
    "| --------- | ------------- |\n",
    "|Minimun gain            | 15 dB |\n",
    "|Maximun gain            | 50 dB |\n",
    "|Maximun noise figure    | 1.5 dB |\n",
    "\n"
   ]
  },
  {
   "cell_type": "markdown",
   "metadata": {
    "slideshow": {
     "slide_type": "slide"
    }
   },
   "source": [
    "##### Diseño sistema de adquisición de datos\n",
    "\n",
    "![](img/diagrama_flujo_tiva.png)"
   ]
  },
  {
   "cell_type": "markdown",
   "metadata": {
    "slideshow": {
     "slide_type": "skip"
    }
   },
   "source": [
    "###### Código Tiva\n",
    "\n",
    "**GPS.c**\n",
    "\n",
    "```C\n",
    "#include \"main.h\"\n",
    "#include \"configs.h\"\n",
    "//Estos .h estan al final de este documento\n",
    "\n",
    "// ************************************** //\n",
    "// Definiciones para Buffers de UART\n",
    "// ************************************** //\n",
    "#define CANALESUART 1 // uno por GPS\n",
    "#define CANTBUFFERS 3 // BUFFERS PARA ROTAR\n",
    "#define DIMBUFFERS 100 //BYTES X BUFFER\n",
    "\n",
    "char BufferActual[CANALESUART];  //Indica buffer en uso para cada UART\n",
    "char Buffer[CANALESUART][CANTBUFFERS][DIMBUFFERS]; //buffers\n",
    "int dim[CANALESUART][CANTBUFFERS]; //Cantidad de CHARs acumulados en determinado Buffer\n",
    "char Enviar[CANALESUART][CANTBUFFERS]; //flag de envio\n",
    "\n",
    "volatile uint_fast8_t ReadyFlag; //ACTIVA TOMA DE DATOS\n",
    "\n",
    "void Print(char * Buffer, int dimension); //Funcion que realiza envio de tramas de GPS\n",
    "\n",
    "// Main application entry point.\n",
    "int main(void)\n",
    "{\n",
    "\t// Inicializacion de indices de buffers y otras variables\n",
    "    //setear los buffers a cero\n",
    "\tint i,j;\n",
    "\tfor(j = 0; j < CANALESUART; j++){\n",
    "\t    for(i = 0; i < CANTBUFFERS; i++){\n",
    "\t        dim[j][i] = 0;\n",
    "\t        Enviar[j][i] = 0;\n",
    "\t    }\n",
    "\t}\n",
    "\n",
    "\tReadyFlag = 0;\n",
    "\n",
    "\n",
    "\n",
    "    // System clock a 80 Mhz\n",
    "    ROM_SysCtlClockSet(SYSCTL_SYSDIV_2_5 | SYSCTL_USE_PLL | SYSCTL_OSC_MAIN |SYSCTL_XTAL_16MHZ);\n",
    "\n",
    "    ROM_IntMasterDisable();\n",
    "    ConfigureUART0();\n",
    "    ConfigureUART1();\n",
    "    UARTIntEnable(UART1_BASE,UART_INT_RX);\n",
    "    IntEnable(INT_UART1);\n",
    "    ROM_IntMasterEnable();\n",
    "\n",
    "\n",
    "\tReadyFlag = 0xFF; //Se comienzan a recibir de la UART\n",
    "    while(1)\n",
    "    {\n",
    "    \tfor (j = 0; j < CANALESUART; j++){\n",
    "            for (i = 0; i < CANTBUFFERS; i++){\n",
    "                if (Enviar[j][i] == 1){\n",
    "                    Print(Buffer[j][i],dim[j][i]);\n",
    "                    dim[j][i] = 0;\n",
    "                    Enviar[j][i] = 0;\n",
    "                }\n",
    "            }\n",
    "    \t}\n",
    "    }\n",
    "}\n",
    "\n",
    "void UART1Int(void) // interrupcion para gps\n",
    "{\n",
    "\tstatic char iniciado = 0;\n",
    "\tchar cThisChar;\n",
    "\twhile (UARTCharsAvail(UART1_BASE))\n",
    "\t{\n",
    "\t\tcThisChar = UARTCharGet(UART1_BASE);\n",
    "\t\tif (ReadyFlag) //Se bufferea\n",
    "\t\t{\n",
    "\t\t    //guardo por byte,busco el 4 de iniciio de rtrama nmea y guardo por byte en buffers\n",
    "\t\t\tif (iniciado == 0){ //con esto se evita que se envien tramas cortadas, siempre iniciaran en $\n",
    "\t\t\t\tif (cThisChar == '$'){\n",
    "\t                Buffer[0][BufferActual[0]][dim[0][BufferActual[0]]] = cThisChar;\n",
    "\t                dim[0][BufferActual[0]]++;\n",
    "\t\t\t\t\tiniciado = 1;\n",
    "\t\t\t\t}\n",
    "\t\t\t}\n",
    "\t\t\telse{\n",
    "\t\t\t\tBuffer[0][BufferActual[0]][dim[0][BufferActual[0]]] = cThisChar;// AGREGO EN ESTE BUFFER LOS DATOS NMEA RECIBIDOS\n",
    "\t\t\t\tdim[0][BufferActual[0]]++;\n",
    "\n",
    "\t\t\t\tif (cThisChar == 0x0A)\n",
    "\t\t\t\t{\n",
    "\t\t\t\t\tEnviar[0][BufferActual[0]] = 1; //EL MAIN ENVIA\n",
    "\t\t\t\t\tBufferActual[0] = (BufferActual[0] + 1) % CANTBUFFERS; //ROTACION DE BUFFER\n",
    "\t\t\t\t\tiniciado = 0;\n",
    "\t\t\t\t}\n",
    "\t\t\t}\n",
    "\n",
    "\t\t}\n",
    "\t}\n",
    "}\n",
    "\n",
    "void Print(char * Buffer, int dimension)\n",
    "{\n",
    "    //Comienzo de datos\n",
    "    // envia buffer que tine enviar=1\n",
    "    int i;\n",
    "    for (i = 0; i < dimension; i++){\n",
    "        UARTCharPut(UART0_BASE, Buffer[i]);\n",
    "    }\n",
    "}\n",
    "```\n",
    "\n",
    "\n",
    "**main.h **\n",
    "\n",
    "```C\n",
    "#ifndef MAIN_H_\n",
    "#define MAIN_H_\n",
    "\n",
    "\t#include <stdbool.h>\n",
    "\t#include <stdint.h>\n",
    "\t#include <stdlib.h>\n",
    "\n",
    "\t#include \"inc/hw_memmap.h\"\n",
    "\t#include \"inc/hw_ints.h\"\n",
    "\t#include \"inc/hw_sysctl.h\"\n",
    "\t#include \"inc/hw_types.h\"\n",
    "\n",
    "\t#include \"driverlib/gpio.h\"\n",
    "\t#include \"driverlib/pin_map.h\"\n",
    "\t#include \"driverlib/sysctl.h\"\n",
    "\t#include \"driverlib/uart.h\"\n",
    "\t#include \"driverlib/interrupt.h\"\n",
    "\t#include \"driverlib/debug.h\"\n",
    "\t#include \"driverlib/rom.h\"\n",
    "\t#include \"driverlib/timer.h\"\n",
    "\n",
    "\t#include \"sensorlib/hw_mpu9150.h\"\n",
    "\t#include \"sensorlib/hw_ak8975.h\"\n",
    "\t#include \"sensorlib/i2cm_drv.h\"\n",
    "\t#include \"sensorlib/ak8975.h\"\n",
    "\t#include \"sensorlib/mpu9150.h\"\n",
    "\t#include \"sensorlib/comp_dcm.h\" \n",
    "\n",
    "\t#include \"utils/uartstdio.h\"\n",
    "\t#include \"drivers/rgb.h\"   //Probablemente eliminable\n",
    "\n",
    "#endif /* MAIN_H_ */\n",
    "```\n",
    "\n",
    "**configs.h**\n",
    "\n",
    "```C\n",
    "#ifndef CONFIGS_H_\n",
    "#define CONFIGS_H_\n",
    "\n",
    "#include \"main.h\"\n",
    "\n",
    "\n",
    "void ConfigureUART0(void);\n",
    "void TimerConfig(void);\n",
    "\n",
    "// Configure the UART and its pins.  This must be called before UARTprintf().\n",
    "void ConfigureUART0(void) //Conexion USB a PC\n",
    "{\n",
    "    //Habilitar UART y GPIO correspondientes.\n",
    "    ROM_SysCtlPeripheralEnable(SYSCTL_PERIPH_GPIOA);\n",
    "    ROM_SysCtlPeripheralEnable(SYSCTL_PERIPH_UART0);\n",
    "\n",
    "    //Configurar GPIO pin muxing para funcion UART.\n",
    "    ROM_GPIOPinConfigure(GPIO_PA0_U0RX);\n",
    "    ROM_GPIOPinConfigure(GPIO_PA1_U0TX);\n",
    "    ROM_GPIOPinTypeUART(GPIO_PORTA_BASE, GPIO_PIN_0 | GPIO_PIN_1);\n",
    "\n",
    "    // Usar oscilador interno 16MHz como fuente de clock\n",
    "    UARTClockSourceSet(UART0_BASE, UART_CLOCK_PIOSC);\n",
    "\n",
    "    // Configuracion de UART para operacion 115200, 8-N-1\n",
    "    UARTStdioConfig(0, 115200, 16000000);\n",
    "}\n",
    "#endif /* CONFIGS_H_ */\n",
    "```"
   ]
  },
  {
   "cell_type": "markdown",
   "metadata": {
    "slideshow": {
     "slide_type": "skip"
    }
   },
   "source": [
    "#### Procesamiento y visualización de los datos\n",
    "\n",
    "##### Descripción\n",
    "\n",
    "El módulo de procesamiento y visualización consta de un código en Python que recibe los datos adquiridos por el módulo antes mencionado, los procesa y confecciona un mapa de elevación del terreno de interés.\n",
    "\n",
    "Se adjudica al módulo de visualización las siguientes tareas:\n",
    "\n",
    "- Transformación de los datos a latitud, longitud y altitud.\n",
    "- Cálculo de la verdadera altitud. *(Dada por la resta entre la altitud del módulo de adquisición y la altitud registrada)*.\n",
    "- Extrapolar los puntos con algoritmos adecuados.\n",
    "- Cálculo de las curvas de nivel.\n",
    "- Visualización del mapa de elevación.\n",
    "- Sincronización con mapa cartográfico.\n",
    "\n",
    "##### Especificaciones técnicas\n",
    "\n",
    "* **Lenguaje de programación**: Python3\n",
    "* **IDE de desarrollo**: Jupyter notebook\n",
    "* **Requerimientos**:\n",
    "    * natgrid\n",
    "    * matplotlib\n",
    "    * mpl_toolkits\n",
    "    * folium\n",
    "    * pyserial\n",
    "    * time\n",
    "    * pynmea2"
   ]
  },
  {
   "cell_type": "markdown",
   "metadata": {
    "slideshow": {
     "slide_type": "slide"
    }
   },
   "source": [
    "#### Procesamiento de los datos\n",
    "\n",
    "##### Trama NMEA - GPGGA\n",
    "\n",
    "*National Marine Electronics Association*\n",
    "\n",
    "* AAM - Waypoint Arrival Alarm.\n",
    "* ALM - Almanac data.\n",
    "* GGA - Fix information.\n",
    "* GLL - Lat/Lon data.\n",
    "* GSV - Detailed Satellite data.\n",
    "* RMB - Recommended navigation data for gps.\n",
    "* RMC - Recommended minimum data for gps.\n",
    "* TRF - Transit Fix Data.\n",
    "* ZDA - Date and Time.\n",
    "+ otras 20 sentencias"
   ]
  },
  {
   "cell_type": "markdown",
   "metadata": {
    "slideshow": {
     "slide_type": "slide"
    }
   },
   "source": [
    "Se reciben los datos del receptor GPS en tramas NMEA vía comunicación serial. Se extraen los datos de **latitud, longitud y altitud** de la trama **GPGGA**.\n",
    "\n",
    "De la [documentación](http://aprs.gids.nl/nmea/#gga), dicha trama es como sigue:\n",
    "\n",
    "`$--GGA,hhmmss.ss,llll.ll,a,yyyyy.yy,a,x,xx,x.x,x.x,M,x.x,M,x.x,xxxx`\n",
    "\n",
    "| Parámetro | Descripción |\n",
    "| --------- | ----------- |\n",
    "| hhmmss.ss | UTC de la posición. |\n",
    "| **llll.ll** | **Latitud de la posición** .|\n",
    "| a | N (Norte) o S (Sur). |\n",
    "| **yyyyy.yy** | **Longitud de la posicion.** |\n",
    "| a | E (Este) o W (Oeste). | \n",
    "| x | GPS Quality indicator (0=no fix, 1=GPS fix, 2=Dif. GPS fix).| \n",
    "| xx | Numero de satelites en uso. | \n",
    "| x.x | horizontal dilution of precisión. | \n",
    "| x.x | Altitud de la Antena respecto al nivel del mar.|\n",
    "| **M** | **nidades de la altitud de la Antena, metros.** |\n",
    "| x.x | Separacion Geoidal.|\n",
    "| M | Unidades de la separacion geoidal, metros. |\n",
    "| x.x | Age of Differential GPS data (seconds).| \n",
    "| xxxx | Differential reference station ID .|"
   ]
  },
  {
   "cell_type": "markdown",
   "metadata": {
    "slideshow": {
     "slide_type": "slide"
    }
   },
   "source": [
    "##### Diseño procesamiento y visualización\n",
    "\n",
    "*agregar diagrama de flujo*"
   ]
  },
  {
   "cell_type": "markdown",
   "metadata": {
    "slideshow": {
     "slide_type": "skip"
    }
   },
   "source": [
    "##### Código procesamiento y visualización\n",
    "\n",
    "Se importan las herramientas a usar"
   ]
  },
  {
   "cell_type": "code",
   "execution_count": null,
   "metadata": {
    "slideshow": {
     "slide_type": "skip"
    }
   },
   "outputs": [],
   "source": [
    "import numpy as np\n",
    "import serial\n",
    "import pynmea2\n",
    "import time\n",
    "import pickle\n",
    "\n",
    "# This import registers the 3D projection, but is otherwise unused.\n",
    "from mpl_toolkits.mplot3d import Axes3D  # noqa: F401 unused import\n",
    "from matplotlib import mlab\n",
    "from matplotlib import cm\n",
    "from matplotlib.colors import LightSource\n",
    "import matplotlib.pyplot as plt\n",
    "import matplotlib\n",
    "\n",
    "import folium\n",
    "from folium.plugins import HeatMap\n",
    "from folium.plugins import MarkerCluster"
   ]
  },
  {
   "cell_type": "code",
   "execution_count": null,
   "metadata": {
    "slideshow": {
     "slide_type": "skip"
    }
   },
   "outputs": [],
   "source": [
    "#!sudo chmod 666 /dev/ttyACM0"
   ]
  },
  {
   "cell_type": "code",
   "execution_count": null,
   "metadata": {
    "slideshow": {
     "slide_type": "skip"
    }
   },
   "outputs": [],
   "source": [
    "lineas_tiva = []"
   ]
  },
  {
   "cell_type": "markdown",
   "metadata": {
    "slideshow": {
     "slide_type": "skip"
    }
   },
   "source": [
    "Se almacenan los datos obtenidos vía serial *(del tipo byte)* en una lista:"
   ]
  },
  {
   "cell_type": "code",
   "execution_count": null,
   "metadata": {
    "scrolled": true,
    "slideshow": {
     "slide_type": "skip"
    }
   },
   "outputs": [],
   "source": [
    "###### Tiempo de sincronización del Rx GPS: ~ 1min 20seg\n",
    "\n",
    "tiva = serial.Serial(\"/dev/ttyACM1\",baudrate=115200)\n",
    "#time.sleep(90)\n",
    "\n",
    "while True:\n",
    "    linea = str( tiva.readline() )\n",
    "    print(linea)\n",
    "    lineas_tiva.append(linea)"
   ]
  },
  {
   "cell_type": "raw",
   "metadata": {
    "slideshow": {
     "slide_type": "skip"
    }
   },
   "source": [
    "# Se almacenan los datos relevados en archivos con extensión txt, ya que los procedimientos de adquisición y procesamiento se realizaron en diferentes días."
   ]
  },
  {
   "cell_type": "markdown",
   "metadata": {
    "slideshow": {
     "slide_type": "skip"
    }
   },
   "source": [
    "Se convierten a string y se *\"limpian\"* las líneas para ser convertidas a una trama gpgga con la librería `pynmea2`, descartando aquellas que no registran latitud, longitud y altitud simultáneamente:"
   ]
  },
  {
   "cell_type": "code",
   "execution_count": null,
   "metadata": {
    "slideshow": {
     "slide_type": "skip"
    }
   },
   "outputs": [],
   "source": [
    "tramas_gpgga = []\n",
    "with open( \"/home/copernico/Escritorio/tp/elevacion-terreno-3D-GPS-tiva-python/datos/muestras_unrc_horizontales.txt\", \"rb\" ) as f:\n",
    "    for line in f.readlines():\n",
    "        linea = str( line )\n",
    "        if 'GPGGA'in linea:\n",
    "            linea_sin_saltos = linea.split(\"'\")[1].split(\"\\\\\")[0]\n",
    "            gpgga = pynmea2.parse(linea_sin_saltos)\n",
    "            #print(gpgga)\n",
    "            if gpgga.latitude and gpgga.longitude and gpgga.altitude:\n",
    "                tramas_gpgga.append(gpgga)\n",
    "                \n",
    "with open( \"/home/copernico/Escritorio/tp/elevacion-terreno-3D-GPS-tiva-python/datos/muestras_unrc_verticales.txt\", \"rb\" ) as f:\n",
    "    for line in f.readlines():\n",
    "        linea = str( line )\n",
    "        if 'GPGGA'in linea:\n",
    "            linea_sin_saltos = linea.split(\"'\")[1].split(\"\\\\\")[0]\n",
    "            gpgga = pynmea2.parse(linea_sin_saltos)\n",
    "            #print(gpgga)\n",
    "            if gpgga.latitude and gpgga.longitude and gpgga.altitude:\n",
    "                tramas_gpgga.append(gpgga)"
   ]
  },
  {
   "cell_type": "code",
   "execution_count": null,
   "metadata": {
    "slideshow": {
     "slide_type": "skip"
    }
   },
   "outputs": [],
   "source": [
    "# Relevamiento desde Cabrera y La Rioja hasta Cabrera e Hipólito Yrigoyen\n",
    "\n",
    "tramas_gpgga = []\n",
    "with open( \"/home/copernico/Escritorio/tp/elevacion-terreno-3D-GPS-tiva-python/datos/centro_ida.txt\", \"rb\" ) as f:\n",
    "    for line in f.readlines():\n",
    "        linea = str( line )\n",
    "        if 'GPGGA'in linea:\n",
    "            linea_sin_saltos = linea.split(\"'\")[1].split(\"\\\\\")[0]\n",
    "            gpgga = pynmea2.parse(linea_sin_saltos)\n",
    "            #print(gpgga)\n",
    "            if gpgga.latitude and gpgga.longitude and gpgga.altitude:\n",
    "                tramas_gpgga.append(gpgga)"
   ]
  },
  {
   "cell_type": "code",
   "execution_count": null,
   "metadata": {
    "slideshow": {
     "slide_type": "skip"
    }
   },
   "outputs": [],
   "source": [
    "with open( \"datos/centro_vuelta.txt\", \"rb\" ) as f:\n",
    "    for line in f.readlines():\n",
    "        linea = str( line )\n",
    "        if 'GPGGA'in linea:\n",
    "            linea_sin_saltos = linea.split(\"'\")[1].split(\"\\\\\")[0]\n",
    "            gpgga = pynmea2.parse(linea_sin_saltos)\n",
    "            #print(gpgga)\n",
    "            if gpgga.latitude and gpgga.longitude and gpgga.altitude:\n",
    "                tramas_gpgga.append(gpgga)"
   ]
  },
  {
   "cell_type": "markdown",
   "metadata": {
    "slideshow": {
     "slide_type": "skip"
    }
   },
   "source": [
    "Se generan tres listas con las latitudes, longitudes y altitudes registradas, así como un array con estas ternas:"
   ]
  },
  {
   "cell_type": "code",
   "execution_count": null,
   "metadata": {
    "slideshow": {
     "slide_type": "skip"
    }
   },
   "outputs": [],
   "source": [
    "latitud = []\n",
    "longitud = []\n",
    "altitud  = []\n",
    "terna = []\n",
    "\n",
    "for trama in tramas_gpgga:\n",
    "    latitud.append(trama.latitude)\n",
    "    longitud.append(trama.longitude)\n",
    "    altitud.append(trama.altitude)\n",
    "    terna.append((trama.latitude, trama.longitude, trama.altitude))\n",
    "np_terna = np.array(terna)"
   ]
  },
  {
   "cell_type": "markdown",
   "metadata": {
    "slideshow": {
     "slide_type": "skip"
    }
   },
   "source": [
    "Se eliminan ternas con igual latitud y longitud y diferente altitud, para salvar error de función no inyectiva en la etapa de visualización:"
   ]
  },
  {
   "cell_type": "code",
   "execution_count": null,
   "metadata": {
    "slideshow": {
     "slide_type": "skip"
    }
   },
   "outputs": [],
   "source": [
    "# ordeno por altitud\n",
    "terna_ordenada = np_terna[np.argsort(np_terna[:,2])[::-1]]\n",
    "# índices de cada par único lat, long\n",
    "indices = np.unique(terna_ordenada[:,:2],return_index=True,axis=0)[1]\n",
    "terna_limpia = terna_ordenada[indices]"
   ]
  },
  {
   "cell_type": "code",
   "execution_count": null,
   "metadata": {
    "slideshow": {
     "slide_type": "skip"
    }
   },
   "outputs": [],
   "source": [
    "max_altitud = max(altitud)\n",
    "promedio_latitud = sum(latitud) / len(latitud)\n",
    "promedio_longitud = sum(longitud) / len(longitud)\n",
    "centro_mapa = [promedio_latitud, promedio_longitud]"
   ]
  },
  {
   "cell_type": "markdown",
   "metadata": {
    "slideshow": {
     "slide_type": "skip"
    }
   },
   "source": [
    "Se genera un mapa con burbujas de radio proporcional a la altitud medida en las correspondientes latitudes y longitudes usando `folium`:"
   ]
  },
  {
   "cell_type": "code",
   "execution_count": null,
   "metadata": {
    "scrolled": false,
    "slideshow": {
     "slide_type": "slide"
    }
   },
   "outputs": [],
   "source": [
    "mapa_puntos = folium.Map(location=centro_mapa, zoom_start=15)\n",
    "\n",
    "for i in range(0,len(latitud)):\n",
    "    folium.Circle(\n",
    "        location=[latitud[i], longitud[i]],\n",
    "        popup=str(altitud[i]) + 'm',\n",
    "        tooltip=str(latitud[i]) + ',' + str(longitud[i]),\n",
    "        radius=(altitud[i] / 1000) ** 10 ,\n",
    "        #color=colores[i],\n",
    "        #fill=True,\n",
    "        #fill_color=colores[i]\n",
    "    ).add_to(mapa_puntos)\n",
    "\n",
    "mapa_puntos"
   ]
  },
  {
   "cell_type": "markdown",
   "metadata": {
    "slideshow": {
     "slide_type": "skip"
    }
   },
   "source": [
    "Se crean tres array correspondientes a las coordenadas a graficar `x, y, z`:"
   ]
  },
  {
   "cell_type": "code",
   "execution_count": null,
   "metadata": {
    "slideshow": {
     "slide_type": "skip"
    }
   },
   "outputs": [],
   "source": [
    "x = []\n",
    "y = []\n",
    "z = []\n",
    "\n",
    "for terna in terna_limpia:\n",
    "    x.append(terna[0])\n",
    "    y.append(terna[1])\n",
    "    z.append(terna[2])\n"
   ]
  },
  {
   "cell_type": "markdown",
   "metadata": {
    "slideshow": {
     "slide_type": "skip"
    }
   },
   "source": [
    "Se crean dos array con elementos equiespaciados entre el mínimo y máximo valor que toman x e y *(latitud y longitud)*, usando el método `meshgrid` de numpy se determina una `malla cuadriculada` con los vectores dominio. Se define la matríz imagen interpolando la malla no uniforme a una uniforme con el método `griddata` de matplotlib.mlab:"
   ]
  },
  {
   "cell_type": "code",
   "execution_count": null,
   "metadata": {
    "slideshow": {
     "slide_type": "skip"
    }
   },
   "outputs": [],
   "source": [
    "xi = np.linspace(min(x), max(x))\n",
    "yi = np.linspace(min(y), max(y))\n",
    "\n",
    "xm, ym = np.meshgrid(xi, yi)\n",
    "zm = mlab.griddata(x, y, z, xi, yi)"
   ]
  },
  {
   "cell_type": "markdown",
   "metadata": {
    "slideshow": {
     "slide_type": "skip"
    }
   },
   "source": [
    "Se visualizan las **curvas de nivel** en un gráfico de dos dimensiones usando el método `contourf` de matplotlib:"
   ]
  },
  {
   "cell_type": "code",
   "execution_count": null,
   "metadata": {
    "slideshow": {
     "slide_type": "slide"
    }
   },
   "outputs": [],
   "source": [
    "%matplotlib inline\n",
    "\n",
    "# Mapa de elevación 2D\n",
    "plt.contourf(xm, ym, zm)\n",
    "plt.colorbar()\n",
    "\n",
    "plt.show()"
   ]
  },
  {
   "cell_type": "markdown",
   "metadata": {
    "slideshow": {
     "slide_type": "skip"
    }
   },
   "source": [
    "Se realiza un gráfico en tres dimensiones con un método de `triangulación`:"
   ]
  },
  {
   "cell_type": "code",
   "execution_count": null,
   "metadata": {
    "slideshow": {
     "slide_type": "skip"
    }
   },
   "outputs": [],
   "source": [
    "\n",
    "%matplotlib qt\n",
    "\n",
    "# Triangulación\n",
    "fig = plt.figure()\n",
    "ax = fig.add_subplot(111, projection='3d')\n",
    "\n",
    "surf = ax.plot_trisurf(x, y, z, cmap=cm.jet, linewidth=0)\n",
    "fig.colorbar(surf)\n",
    "\n",
    "\n",
    "fig.tight_layout()\n",
    "\n",
    "plt.show()"
   ]
  },
  {
   "cell_type": "markdown",
   "metadata": {
    "slideshow": {
     "slide_type": "skip"
    }
   },
   "source": [
    "Se emplea el método `plot_surface` de matplotlib para crear una **superficie** mediante mejores algoritmos de extrapolación y su mapa de elevación en tres dimensiones:"
   ]
  },
  {
   "cell_type": "code",
   "execution_count": null,
   "metadata": {
    "slideshow": {
     "slide_type": "skip"
    }
   },
   "outputs": [],
   "source": [
    "fig, ax = plt.subplots(subplot_kw=dict(projection='3d'))\n",
    "\n",
    "ls = LightSource(100, 45)\n",
    "# To use a custom hillshading mode, override the built-in shading and pass\n",
    "# in the rgb colors of the shaded surface calculated from \"shade\".\n",
    "rgb = ls.shade(zm, cmap=cm.gist_earth, vert_exag=0.1, blend_mode='soft')\n",
    "surf = ax.plot_surface(xm, ym, zm, rstride=1, cstride=1, facecolors=rgb,\n",
    "                       linewidth=0, antialiased=False, shade=False)\n",
    "\n",
    "plt.show()"
   ]
  },
  {
   "cell_type": "markdown",
   "metadata": {
    "slideshow": {
     "slide_type": "slide"
    }
   },
   "source": [
    "### Aplicaciones\n",
    "\n",
    "* Cartografia.\n",
    "* Catastrales.\n",
    "* Agrimensura\n",
    "* Geológicos.\n",
    "* Planificacion urbana.\n",
    "* Topografia.\n",
    "* Navegacion"
   ]
  },
  {
   "cell_type": "markdown",
   "metadata": {
    "slideshow": {
     "slide_type": "slide"
    }
   },
   "source": [
    "#### Aplicaciones Civiles\n",
    "\n",
    "![](img/civil.jpg)\n",
    "\n",
    "* Aeródromos en zonas Rurales que no cuentan con una obra civil, y necesitan transporte aéreo en caso de emergencias médicas, \n",
    "* Ayuda humanitaria.\n",
    "* Emergencias Ambientales, bosques, que al igual que el caso anterior  no cuenten con un aeródromo con obra civil.\n"
   ]
  },
  {
   "cell_type": "markdown",
   "metadata": {
    "slideshow": {
     "slide_type": "slide"
    }
   },
   "source": [
    "#### Aplicaciones Militares\n",
    "\n",
    "![](img/militar.jpg)\n",
    "\n",
    "* Misiones militares, donde no hay disposición de una pista de aterrizaje aliada, o dicha misión se encuentra demasiado alejada de  una aeródromo o semejante, y la necesidad de apoyo aéreo para transporte de unidades o civiles es de suma importancia\n"
   ]
  },
  {
   "cell_type": "markdown",
   "metadata": {
    "slideshow": {
     "slide_type": "slide"
    }
   },
   "source": [
    "#### Aplicación en Río Cuarto\n",
    "\n",
    "##### Agrimensura"
   ]
  },
  {
   "cell_type": "code",
   "execution_count": null,
   "metadata": {
    "slideshow": {
     "slide_type": "skip"
    }
   },
   "outputs": [],
   "source": [
    "import io\n",
    "import base64\n",
    "from IPython.display import HTML"
   ]
  },
  {
   "cell_type": "code",
   "execution_count": null,
   "metadata": {
    "slideshow": {
     "slide_type": "subslide"
    }
   },
   "outputs": [],
   "source": [
    "video = io.open('video/video1.mp4', 'r+b').read()\n",
    "encoded = base64.b64encode(video)\n",
    "HTML(data='''<video alt=\"test\" controls>\n",
    "                <source src=\"data:video/mp4;base64,{0}\" type=\"video/mp4\" />\n",
    "             </video>'''.format(encoded.decode('ascii')))"
   ]
  },
  {
   "cell_type": "code",
   "execution_count": null,
   "metadata": {
    "slideshow": {
     "slide_type": "slide"
    }
   },
   "outputs": [],
   "source": [
    "video = io.open('video/video2.mp4', 'r+b').read()\n",
    "encoded = base64.b64encode(video)\n",
    "HTML(data='''<video alt=\"test\" controls>\n",
    "                <source src=\"data:video/mp4;base64,{0}\" type=\"video/mp4\" />\n",
    "             </video>'''.format(encoded.decode('ascii')))"
   ]
  },
  {
   "cell_type": "code",
   "execution_count": null,
   "metadata": {
    "slideshow": {
     "slide_type": "slide"
    }
   },
   "outputs": [],
   "source": [
    "video = io.open('video/video3.mp4', 'r+b').read()\n",
    "encoded = base64.b64encode(video)\n",
    "HTML(data='''<video alt=\"test\" controls>\n",
    "                <source src=\"data:video/mp4;base64,{0}\" type=\"video/mp4\" />\n",
    "             </video>'''.format(encoded.decode('ascii')))"
   ]
  },
  {
   "cell_type": "markdown",
   "metadata": {
    "slideshow": {
     "slide_type": "slide"
    }
   },
   "source": [
    "#### Nuestra contribución\n",
    "\n",
    "Relevamiento de calles, rutas, para el correcto dimensionamiento de los desagües pluviales.\n",
    "\n",
    "Se relevan datos de altitud de la trayectoria comprendida entre los puntos determinados por las esquinas *Cabrera y La Rioja* y *La Rioja e Hipólito Yrigoyen* del centro de nuestra ciudad.\n",
    "\n",
    "![](img/mapa_recorrido_centro.png)\n",
    "\n",
    "*Puntos relevados en zona de inundaciones en Río Cuarto*\n",
    "\n",
    "Se confeccionan las curvas de nivel:\n",
    "\n",
    "![](img/curvas_nivel_centro.png)\n",
    "\n",
    "*Curvas de nivel en 2D del recorrido*\n",
    "\n",
    "Y los mapas de elevación en tres dimensiones:\n",
    "\n",
    "![](img/elevacion_3d_triang.png)\n",
    "\n",
    "*Mapa en 3D con método de triangulación del recorrido*\n",
    "\n",
    "![](img/elevacion_3d.png)\n",
    "\n",
    "*Mapa en 3D con método de triangulación del recorrido*"
   ]
  },
  {
   "cell_type": "markdown",
   "metadata": {
    "slideshow": {
     "slide_type": "skip"
    }
   },
   "source": [
    "### Conclusión\n",
    "\n",
    "El sistema de ayuda a la navegación elegido **GNSS**, más específicamente el sistema **GPS**, sus fundamentos e implementación puede aplicarse a una actividad de interés en el campo de la Ingeniería Civíl, más precisamente en la confección de curvas de nivel y mapas de elevación de un terreno, contribuyendo así con la adquisición de datos, su procesamiento y automatización, resultando en una visualización amigable y atractiva para su análisis y toma de desiciones, con hardware de bajo costo y pocas lineas de código."
   ]
  },
  {
   "cell_type": "markdown",
   "metadata": {
    "slideshow": {
     "slide_type": "slide"
    }
   },
   "source": [
    "### Proyección\n",
    "\n",
    "Una evolución interesante del sub sistema de adquisición de datos, se proyecta añadiendo un **drone** para el recorrido autónomo del terreno.\n",
    "\n",
    "![](img/drone.jpg)"
   ]
  }
 ],
 "metadata": {
  "celltoolbar": "Slideshow",
  "kernelspec": {
   "display_name": "Python 3",
   "language": "python",
   "name": "python3"
  },
  "language_info": {
   "codemirror_mode": {
    "name": "ipython",
    "version": 3
   },
   "file_extension": ".py",
   "mimetype": "text/x-python",
   "name": "python",
   "nbconvert_exporter": "python",
   "pygments_lexer": "ipython3",
   "version": "3.6.6"
  }
 },
 "nbformat": 4,
 "nbformat_minor": 2
}
